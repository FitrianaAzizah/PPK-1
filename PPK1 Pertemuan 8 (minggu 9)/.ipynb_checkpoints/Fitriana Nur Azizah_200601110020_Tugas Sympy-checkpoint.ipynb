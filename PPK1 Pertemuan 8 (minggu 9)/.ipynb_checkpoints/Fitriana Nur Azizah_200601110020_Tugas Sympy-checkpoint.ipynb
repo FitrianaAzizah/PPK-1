{
 "cells": [
  {
   "cell_type": "markdown",
   "id": "4a5a6368",
   "metadata": {},
   "source": [
    "### Tugas PPK I (SymPy)\n",
    "Nama: Fitriana Nur Azizah\\\n",
    "NIM: 200601110020\\\n",
    "Kelas: PPK I-F"
   ]
  },
  {
   "cell_type": "markdown",
   "id": "2e5151fb",
   "metadata": {},
   "source": [
    "Silahkan buat 5 soal matematika beserta penyelesaiannya menggunakan bantuan sympy. Buat file .ipynb kemudian upload di github dan kumpulkan link nya di elearning."
   ]
  },
  {
   "cell_type": "markdown",
   "id": "6a8f6f90",
   "metadata": {},
   "source": [
    "#### SOAL\n",
    "1. Hitunglah hasil limit dari (8x-3)/(2x-9) dengan x mendekati 3!\n",
    "2. Diketahui di sebuah desa terdapat 5% orang yang bekerja sebagai PNS, jika di desa itu terdapat 1120 penduduk, berapa banyak jumlah orang yang bekerja sebagai PNS?\n",
    "3. Tentukan turunan dari x^3–x^2+3x!\n",
    "4. Berapakah himpunan penyelesaian dari 2x^2-3x?\n",
    "5. Diberikan persamaan a = 5x + 12y, b = 10y - 16x + 4, dan c = 8y + 5x - 14. Berapakah hasil dari 2(a+b)-c?"
   ]
  },
  {
   "cell_type": "markdown",
   "id": "191327b9",
   "metadata": {},
   "source": [
    "#### JAWABAN"
   ]
  },
  {
   "cell_type": "code",
   "execution_count": 1,
   "id": "044899ef",
   "metadata": {},
   "outputs": [],
   "source": [
    "import sympy\n",
    "from sympy import *\n",
    "from sympy import symbols\n",
    "init_printing()"
   ]
  },
  {
   "cell_type": "code",
   "execution_count": 2,
   "id": "d259a36b",
   "metadata": {},
   "outputs": [
    {
     "name": "stderr",
     "output_type": "stream",
     "text": [
      "C:\\Users\\VivoBook\\anaconda3\\lib\\site-packages\\IPython\\lib\\latextools.py:126: MatplotlibDeprecationWarning: \n",
      "The to_png function was deprecated in Matplotlib 3.4 and will be removed two minor releases later. Use mathtext.math_to_image instead.\n",
      "  mt.to_png(f, s, fontsize=12, dpi=dpi, color=color)\n",
      "C:\\Users\\VivoBook\\anaconda3\\lib\\site-packages\\IPython\\lib\\latextools.py:126: MatplotlibDeprecationWarning: \n",
      "The to_rgba function was deprecated in Matplotlib 3.4 and will be removed two minor releases later. Use mathtext.math_to_image instead.\n",
      "  mt.to_png(f, s, fontsize=12, dpi=dpi, color=color)\n",
      "C:\\Users\\VivoBook\\anaconda3\\lib\\site-packages\\IPython\\lib\\latextools.py:126: MatplotlibDeprecationWarning: \n",
      "The to_mask function was deprecated in Matplotlib 3.4 and will be removed two minor releases later. Use mathtext.math_to_image instead.\n",
      "  mt.to_png(f, s, fontsize=12, dpi=dpi, color=color)\n",
      "C:\\Users\\VivoBook\\anaconda3\\lib\\site-packages\\IPython\\lib\\latextools.py:126: MatplotlibDeprecationWarning: \n",
      "The MathtextBackendBitmap class was deprecated in Matplotlib 3.4 and will be removed two minor releases later. Use mathtext.math_to_image instead.\n",
      "  mt.to_png(f, s, fontsize=12, dpi=dpi, color=color)\n"
     ]
    },
    {
     "data": {
      "image/png": "[encoded data removed]",
      "text/latex": [
       "$\\displaystyle \\frac{29}{2}$"
      ],
      "text/plain": [
       "29/2"
      ]
     },
     "execution_count": 2,
     "metadata": {},
     "output_type": "execute_result"
    }
   ],
   "source": [
    "# Jawaban Nomor 1\n",
    "\n",
    "x = symbols('x')\n",
    "limit((8*x)-3/(2*x)-9, x, 3)"
   ]
  },
  {
   "cell_type": "code",
   "execution_count": 3,
   "id": "bba4fd58",
   "metadata": {},
   "outputs": [
    {
     "data": {
      "image/png": "[encoded data removed]",
      "text/latex": [
       "$\\displaystyle 56.0$"
      ],
      "text/plain": [
       "56.0000000000000"
      ]
     },
     "execution_count": 3,
     "metadata": {},
     "output_type": "execute_result"
    }
   ],
   "source": [
    "# Jawaban Nomor 2\n",
    "\n",
    "x = symbols('x')\n",
    "simplify((5/100)*1120)"
   ]
  },
  {
   "cell_type": "code",
   "execution_count": 4,
   "id": "05490f27",
   "metadata": {},
   "outputs": [
    {
     "data": {
      "image/png": "[encoded data removed]",
      "text/latex": [
       "$\\displaystyle 3 x^{2} - 2 x + 3$"
      ],
      "text/plain": [
       "   2          \n",
       "3⋅x  - 2⋅x + 3"
      ]
     },
     "execution_count": 4,
     "metadata": {},
     "output_type": "execute_result"
    }
   ],
   "source": [
    "# Jawaban Nomor 3\n",
    "\n",
    "x = symbols('x')\n",
    "diff((x)**3-x**2+3*x)"
   ]
  },
  {
   "cell_type": "code",
   "execution_count": 5,
   "id": "91b90305",
   "metadata": {},
   "outputs": [
    {
     "data": {
      "image/png": "[encoded data removed]",
      "text/latex": [
       "$\\displaystyle \\left[ 0, \\  \\frac{3}{2}\\right]$"
      ],
      "text/plain": [
       "[0, 3/2]"
      ]
     },
     "execution_count": 5,
     "metadata": {},
     "output_type": "execute_result"
    }
   ],
   "source": [
    "# Jawaban Nomor 4\n",
    "\n",
    "x = symbols('x')\n",
    "solve(2*x**2-3*x)"
   ]
  },
  {
   "cell_type": "code",
   "execution_count": 6,
   "id": "db104d3a",
   "metadata": {},
   "outputs": [
    {
     "data": {
      "image/png": "[encoded data removed]",
      "text/latex": [
       "$\\displaystyle - 27 x + 36 y + 22$"
      ],
      "text/plain": [
       "-27⋅x + 36⋅y + 22"
      ]
     },
     "execution_count": 6,
     "metadata": {},
     "output_type": "execute_result"
    }
   ],
   "source": [
    "# Jawaban Nomor 5\n",
    "\n",
    "x, y = symbols('x y')\n",
    "a = 5*x + 12*y\n",
    "b = 10*y - 16*x + 4\n",
    "c = 8*y + 5*x - 14\n",
    "\n",
    "simplify(2*(a+b)-c)"
   ]
  }
 ],
 "metadata": {
  "kernelspec": {
   "display_name": "Python 3 (ipykernel)",
   "language": "python",
   "name": "python3"
  },
  "language_info": {
   "codemirror_mode": {
    "name": "ipython",
    "version": 3
   },
   "file_extension": ".py",
   "mimetype": "text/x-python",
   "name": "python",
   "nbconvert_exporter": "python",
   "pygments_lexer": "ipython3",
   "version": "3.9.7"
  }
 },
 "nbformat": 4,
 "nbformat_minor": 5
}
