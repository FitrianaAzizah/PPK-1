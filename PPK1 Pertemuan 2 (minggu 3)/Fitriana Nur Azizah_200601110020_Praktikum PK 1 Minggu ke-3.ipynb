{
 "cells": [
  {
   "cell_type": "markdown",
   "id": "d05c443f",
   "metadata": {},
   "source": [
    "# Chapter 2"
   ]
  },
  {
   "cell_type": "code",
   "execution_count": 25,
   "id": "66c299b1",
   "metadata": {},
   "outputs": [
    {
     "name": "stdout",
     "output_type": "stream",
     "text": [
      "0\n",
      "1\n"
     ]
    }
   ],
   "source": [
    "x=0\n",
    "if x<1:\n",
    "    print(x)\n",
    "    print(x+1)"
   ]
  },
  {
   "cell_type": "markdown",
   "id": "47cdeba4",
   "metadata": {},
   "source": [
    "# 2.1.1 Bilangan Bulat"
   ]
  },
  {
   "cell_type": "markdown",
   "id": "16ab7f36",
   "metadata": {},
   "source": [
    "# Algorithm 2.1 str()"
   ]
  },
  {
   "cell_type": "code",
   "execution_count": 1,
   "id": "ed42cff3",
   "metadata": {},
   "outputs": [
    {
     "data": {
      "text/plain": [
       "int"
      ]
     },
     "execution_count": 1,
     "metadata": {},
     "output_type": "execute_result"
    }
   ],
   "source": [
    "a=12345\n",
    "type(a)"
   ]
  },
  {
   "cell_type": "code",
   "execution_count": 2,
   "id": "6951441f",
   "metadata": {},
   "outputs": [
    {
     "data": {
      "text/plain": [
       "str"
      ]
     },
     "execution_count": 2,
     "metadata": {},
     "output_type": "execute_result"
    }
   ],
   "source": [
    "b=str(a)\n",
    "b'12345'\n",
    "type(b)"
   ]
  },
  {
   "cell_type": "markdown",
   "id": "b06f15a4",
   "metadata": {},
   "source": [
    "# Algorithm 2.2 int()"
   ]
  },
  {
   "cell_type": "code",
   "execution_count": 46,
   "id": "825aa611",
   "metadata": {},
   "outputs": [
    {
     "data": {
      "text/plain": [
       "str"
      ]
     },
     "execution_count": 46,
     "metadata": {},
     "output_type": "execute_result"
    }
   ],
   "source": [
    "a='12345'\n",
    "type(a)"
   ]
  },
  {
   "cell_type": "code",
   "execution_count": 47,
   "id": "786e3491",
   "metadata": {},
   "outputs": [
    {
     "data": {
      "text/plain": [
       "int"
      ]
     },
     "execution_count": 47,
     "metadata": {},
     "output_type": "execute_result"
    }
   ],
   "source": [
    "b=int(a)\n",
    "b=12345\n",
    "type(b)"
   ]
  },
  {
   "cell_type": "markdown",
   "id": "ef2c328f",
   "metadata": {},
   "source": [
    "# Algorithm 2.3"
   ]
  },
  {
   "cell_type": "code",
   "execution_count": 48,
   "id": "0299ead8",
   "metadata": {},
   "outputs": [
    {
     "data": {
      "text/plain": [
       "1"
      ]
     },
     "execution_count": 48,
     "metadata": {},
     "output_type": "execute_result"
    }
   ],
   "source": [
    "int(True)"
   ]
  },
  {
   "cell_type": "code",
   "execution_count": 49,
   "id": "30c80938",
   "metadata": {},
   "outputs": [
    {
     "data": {
      "text/plain": [
       "0"
      ]
     },
     "execution_count": 49,
     "metadata": {},
     "output_type": "execute_result"
    }
   ],
   "source": [
    "int(False)"
   ]
  },
  {
   "cell_type": "code",
   "execution_count": 50,
   "id": "e3019472",
   "metadata": {},
   "outputs": [
    {
     "data": {
      "text/plain": [
       "bool"
      ]
     },
     "execution_count": 50,
     "metadata": {},
     "output_type": "execute_result"
    }
   ],
   "source": [
    "a=True\n",
    "type(a)"
   ]
  },
  {
   "cell_type": "code",
   "execution_count": 51,
   "id": "810f881f",
   "metadata": {},
   "outputs": [
    {
     "data": {
      "text/plain": [
       "1"
      ]
     },
     "execution_count": 51,
     "metadata": {},
     "output_type": "execute_result"
    }
   ],
   "source": [
    "int(a)"
   ]
  },
  {
   "cell_type": "markdown",
   "id": "3941b630",
   "metadata": {},
   "source": [
    "# 2.1.2 Bilangan Riil"
   ]
  },
  {
   "cell_type": "markdown",
   "id": "77e09db7",
   "metadata": {},
   "source": [
    "# Algorithm 2.4"
   ]
  },
  {
   "cell_type": "code",
   "execution_count": 26,
   "id": "9ec0542f",
   "metadata": {},
   "outputs": [
    {
     "data": {
      "text/plain": [
       "123.456"
      ]
     },
     "execution_count": 26,
     "metadata": {},
     "output_type": "execute_result"
    }
   ],
   "source": [
    "a=123.456\n",
    "a"
   ]
  },
  {
   "cell_type": "code",
   "execution_count": 27,
   "id": "6c896815",
   "metadata": {},
   "outputs": [
    {
     "data": {
      "text/plain": [
       "float"
      ]
     },
     "execution_count": 27,
     "metadata": {},
     "output_type": "execute_result"
    }
   ],
   "source": [
    "type(a)"
   ]
  },
  {
   "cell_type": "code",
   "execution_count": 28,
   "id": "0be3144f",
   "metadata": {},
   "outputs": [
    {
     "data": {
      "text/plain": [
       "246.912"
      ]
     },
     "execution_count": 28,
     "metadata": {},
     "output_type": "execute_result"
    }
   ],
   "source": [
    "a*2"
   ]
  },
  {
   "cell_type": "markdown",
   "id": "76632f14",
   "metadata": {},
   "source": [
    "# Algorithm 2.5"
   ]
  },
  {
   "cell_type": "code",
   "execution_count": 32,
   "id": "499c9c39",
   "metadata": {},
   "outputs": [
    {
     "data": {
      "text/plain": [
       "0.00089"
      ]
     },
     "execution_count": 32,
     "metadata": {},
     "output_type": "execute_result"
    }
   ],
   "source": [
    "a=8.9e-4\n",
    "a"
   ]
  },
  {
   "cell_type": "markdown",
   "id": "71923a35",
   "metadata": {},
   "source": [
    "# Algorithm 2.6"
   ]
  },
  {
   "cell_type": "code",
   "execution_count": 33,
   "id": "1996de40",
   "metadata": {},
   "outputs": [
    {
     "data": {
      "text/plain": [
       "float"
      ]
     },
     "execution_count": 33,
     "metadata": {},
     "output_type": "execute_result"
    }
   ],
   "source": [
    "a=123.456\n",
    "type(a)"
   ]
  },
  {
   "cell_type": "code",
   "execution_count": 34,
   "id": "49b8e566",
   "metadata": {},
   "outputs": [
    {
     "data": {
      "text/plain": [
       "'123.456'"
      ]
     },
     "execution_count": 34,
     "metadata": {},
     "output_type": "execute_result"
    }
   ],
   "source": [
    "b=str(a)\n",
    "b"
   ]
  },
  {
   "cell_type": "code",
   "execution_count": 35,
   "id": "df7c647d",
   "metadata": {},
   "outputs": [
    {
     "data": {
      "text/plain": [
       "str"
      ]
     },
     "execution_count": 35,
     "metadata": {},
     "output_type": "execute_result"
    }
   ],
   "source": [
    "type(b)"
   ]
  },
  {
   "cell_type": "code",
   "execution_count": 36,
   "id": "cc00aebe",
   "metadata": {},
   "outputs": [
    {
     "data": {
      "text/plain": [
       "123.456"
      ]
     },
     "execution_count": 36,
     "metadata": {},
     "output_type": "execute_result"
    }
   ],
   "source": [
    "c=float(b)\n",
    "c"
   ]
  },
  {
   "cell_type": "code",
   "execution_count": 37,
   "id": "75fa2d57",
   "metadata": {},
   "outputs": [
    {
     "data": {
      "text/plain": [
       "float"
      ]
     },
     "execution_count": 37,
     "metadata": {},
     "output_type": "execute_result"
    }
   ],
   "source": [
    "type(c)"
   ]
  },
  {
   "cell_type": "markdown",
   "id": "84aa668f",
   "metadata": {},
   "source": [
    "# Algorithm 2.7"
   ]
  },
  {
   "cell_type": "code",
   "execution_count": 38,
   "id": "5139b07c",
   "metadata": {},
   "outputs": [
    {
     "data": {
      "text/plain": [
       "(-9+17j)"
      ]
     },
     "execution_count": 38,
     "metadata": {},
     "output_type": "execute_result"
    }
   ],
   "source": [
    "a=-9+17j\n",
    "a"
   ]
  },
  {
   "cell_type": "code",
   "execution_count": 39,
   "id": "b7512eed",
   "metadata": {},
   "outputs": [
    {
     "data": {
      "text/plain": [
       "complex"
      ]
     },
     "execution_count": 39,
     "metadata": {},
     "output_type": "execute_result"
    }
   ],
   "source": [
    "type(a)"
   ]
  },
  {
   "cell_type": "code",
   "execution_count": 40,
   "id": "8837c35a",
   "metadata": {},
   "outputs": [
    {
     "data": {
      "text/plain": [
       "-9.0"
      ]
     },
     "execution_count": 40,
     "metadata": {},
     "output_type": "execute_result"
    }
   ],
   "source": [
    "a.real"
   ]
  },
  {
   "cell_type": "code",
   "execution_count": 41,
   "id": "31bdb338",
   "metadata": {},
   "outputs": [
    {
     "data": {
      "text/plain": [
       "17.0"
      ]
     },
     "execution_count": 41,
     "metadata": {},
     "output_type": "execute_result"
    }
   ],
   "source": [
    "a.imag"
   ]
  },
  {
   "cell_type": "markdown",
   "id": "af12112f",
   "metadata": {},
   "source": [
    "# Algorithm 2.8"
   ]
  },
  {
   "cell_type": "code",
   "execution_count": 3,
   "id": "a6b58c6c",
   "metadata": {},
   "outputs": [],
   "source": [
    "s1='PyQt'"
   ]
  },
  {
   "cell_type": "code",
   "execution_count": 4,
   "id": "71261a29",
   "metadata": {},
   "outputs": [
    {
     "data": {
      "text/plain": [
       "'PyQt'"
      ]
     },
     "execution_count": 4,
     "metadata": {},
     "output_type": "execute_result"
    }
   ],
   "source": [
    "s1"
   ]
  },
  {
   "cell_type": "code",
   "execution_count": 6,
   "id": "9b01843e",
   "metadata": {},
   "outputs": [],
   "source": [
    "s2=\"Phyton\""
   ]
  },
  {
   "cell_type": "code",
   "execution_count": 7,
   "id": "b957ac8d",
   "metadata": {},
   "outputs": [
    {
     "data": {
      "text/plain": [
       "'Phyton'"
      ]
     },
     "execution_count": 7,
     "metadata": {},
     "output_type": "execute_result"
    }
   ],
   "source": [
    "s2"
   ]
  },
  {
   "cell_type": "code",
   "execution_count": 24,
   "id": "856e36b9",
   "metadata": {},
   "outputs": [
    {
     "data": {
      "text/plain": [
       "' Pemrograman GUI dengan Phyton dan PyQt '"
      ]
     },
     "execution_count": 24,
     "metadata": {},
     "output_type": "execute_result"
    }
   ],
   "source": [
    "s3=''' Pemrograman GUI dengan Phyton dan PyQt '''\n",
    "s3='\\nPemrograman GUI\\ndengan Phyton dan PyQt\\n'\n",
    "s4=\"\"\" Pemrograman GUI dengan Phyton dan PyQt \"\"\"\n",
    "s4"
   ]
  },
  {
   "cell_type": "code",
   "execution_count": 13,
   "id": "9cd4d219",
   "metadata": {},
   "outputs": [
    {
     "data": {
      "text/plain": [
       "'phyton'"
      ]
     },
     "execution_count": 13,
     "metadata": {},
     "output_type": "execute_result"
    }
   ],
   "source": [
    "b='phyton'\n",
    "b"
   ]
  },
  {
   "cell_type": "code",
   "execution_count": 14,
   "id": "ad85b9f8",
   "metadata": {},
   "outputs": [
    {
     "data": {
      "text/plain": [
       "'Phyton'"
      ]
     },
     "execution_count": 14,
     "metadata": {},
     "output_type": "execute_result"
    }
   ],
   "source": [
    "b=b.capitalize()\n",
    "b"
   ]
  },
  {
   "cell_type": "code",
   "execution_count": 15,
   "id": "c740dfc0",
   "metadata": {},
   "outputs": [
    {
     "data": {
      "text/plain": [
       "'PHYTON'"
      ]
     },
     "execution_count": 15,
     "metadata": {},
     "output_type": "execute_result"
    }
   ],
   "source": [
    "b=b.upper()\n",
    "b"
   ]
  },
  {
   "cell_type": "code",
   "execution_count": 16,
   "id": "eeed01ae",
   "metadata": {},
   "outputs": [
    {
     "data": {
      "text/plain": [
       "'phyton'"
      ]
     },
     "execution_count": 16,
     "metadata": {},
     "output_type": "execute_result"
    }
   ],
   "source": [
    "b=b.lower()\n",
    "b"
   ]
  },
  {
   "cell_type": "code",
   "execution_count": 17,
   "id": "32611a22",
   "metadata": {},
   "outputs": [
    {
     "data": {
      "text/plain": [
       "False"
      ]
     },
     "execution_count": 17,
     "metadata": {},
     "output_type": "execute_result"
    }
   ],
   "source": [
    "b.isupper()"
   ]
  },
  {
   "cell_type": "code",
   "execution_count": 18,
   "id": "e72cae5a",
   "metadata": {},
   "outputs": [
    {
     "data": {
      "text/plain": [
       "True"
      ]
     },
     "execution_count": 18,
     "metadata": {},
     "output_type": "execute_result"
    }
   ],
   "source": [
    "b.islower()"
   ]
  },
  {
   "cell_type": "code",
   "execution_count": 42,
   "id": "bbc4284a",
   "metadata": {},
   "outputs": [
    {
     "data": {
      "text/plain": [
       "'saya makan ayam'"
      ]
     },
     "execution_count": 42,
     "metadata": {},
     "output_type": "execute_result"
    }
   ],
   "source": [
    "s=' '.join(['saya','makan','ayam'])\n",
    "s"
   ]
  },
  {
   "cell_type": "code",
   "execution_count": 43,
   "id": "2d91b4a7",
   "metadata": {},
   "outputs": [
    {
     "data": {
      "text/plain": [
       "True"
      ]
     },
     "execution_count": 43,
     "metadata": {},
     "output_type": "execute_result"
    }
   ],
   "source": [
    "nim='16610021'\n",
    "nim.isnumeric()"
   ]
  },
  {
   "cell_type": "code",
   "execution_count": 44,
   "id": "6c212b8d",
   "metadata": {},
   "outputs": [
    {
     "data": {
      "text/plain": [
       "False"
      ]
     },
     "execution_count": 44,
     "metadata": {},
     "output_type": "execute_result"
    }
   ],
   "source": [
    "nim='16610o21'\n",
    "nim.isnumeric()"
   ]
  },
  {
   "cell_type": "markdown",
   "id": "be015131",
   "metadata": {},
   "source": [
    "# Self Check 5"
   ]
  },
  {
   "cell_type": "code",
   "execution_count": 45,
   "id": "725c66e1",
   "metadata": {},
   "outputs": [
    {
     "name": "stdout",
     "output_type": "stream",
     "text": [
      "SAYA BELAJAR PK 1\n",
      "saya belajar pk 1\n",
      "Saya belajar pk 1\n",
      "True\n",
      "False\n"
     ]
    }
   ],
   "source": [
    "teks='saya belajar PK 1'\n",
    "print(teks.upper())\n",
    "print(teks.lower())\n",
    "print(teks.capitalize())\n",
    "print('10022020'.isnumeric())\n",
    "print('10022o20'.isnumeric())"
   ]
  }
 ],
 "metadata": {
  "kernelspec": {
   "display_name": "Python 3 (ipykernel)",
   "language": "python",
   "name": "python3"
  },
  "language_info": {
   "codemirror_mode": {
    "name": "ipython",
    "version": 3
   },
   "file_extension": ".py",
   "mimetype": "text/x-python",
   "name": "python",
   "nbconvert_exporter": "python",
   "pygments_lexer": "ipython3",
   "version": "3.9.7"
  }
 },
 "nbformat": 4,
 "nbformat_minor": 5
}
