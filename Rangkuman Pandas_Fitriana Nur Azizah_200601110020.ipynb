{
 "cells": [
  {
   "cell_type": "markdown",
   "id": "4ba66a31",
   "metadata": {},
   "source": [
    "# Rangkuman Materi Pandas\n",
    "Nama: Fitriana Nur Azizah\\\n",
    "NIM: 200601110020\\\n",
    "Kelas: PPK I-F"
   ]
  },
  {
   "cell_type": "markdown",
   "id": "83a28af7",
   "metadata": {},
   "source": [
    "### Pandas\n",
    "Pandas merupakan sebuah library berlisensi BSD dan open source yang menyediakan struktur data dan analisis data yang mudah digunakan dan berkinerja tinggi untuk bahasa pemrograman python.\n",
    "Library analisis data yang memiliki struktur data yang diperlukan untuk mengkonversi data mentah ke dalam bentuk/format tabel sehingga memudahkan untuk menganalisis\n",
    "\n",
    "### Data Frame\n",
    "Struktur data dasar pandas dinamakan DataFrame. Koleksi kolom berurutan dengan bentuk sebuah tabel yang tampak seperti database dimana, sebuah baris tunggal mewakili sebuah data tunggal, dan kolom mewakili atribut tertentu.\n",
    "Dengan adanya fitur DataFrame dapat mempermudah membaca file dan mengubahnya menjadi tabel. File yang didukung seperti .txt, .csv, .tsv dan lainnya."
   ]
  },
  {
   "cell_type": "markdown",
   "id": "cb502f7b",
   "metadata": {},
   "source": [
    "### Hal yang bisa dilakukan Pandas\n",
    "1. Membaca dari dan menulis ke CSV, file lainnya dan database.\n",
    "2. Menghituung statistik dan menjawab pertanyaan mengenai data.\n",
    "3. Membersihkan data dengan cara menghapus nilai yang hilang, dan memfilter baris/kolom dengan meng-criteriaVisualize data dengan bantuan dari Matplotlib.\n",
    "4. Mengolah data dengan menggunakan operasi join, distinct, group by, agregasi, dan teknik lain yang ada pada SQL."
   ]
  },
  {
   "cell_type": "code",
   "execution_count": null,
   "id": "ca17255a",
   "metadata": {},
   "outputs": [],
   "source": [
    "### Mengimpor Pandas\n",
    "\n",
    "import pandas as pd"
   ]
  },
  {
   "cell_type": "markdown",
   "id": "4b10cb1a",
   "metadata": {},
   "source": [
    "### Komponen Utama Pandas\n",
    "Series dan DataFrame.\n",
    "Series adalah suatu kolom. DataFrame adalah kumpulan series, dapat berupa tabel multidimensi."
   ]
  },
  {
   "cell_type": "markdown",
   "id": "b68eae17",
   "metadata": {},
   "source": [
    "### Pembuatan DataFrame\n",
    "Dataframe dapat terbentuk dari hasil pembacaan data atau bisa juga dibuat sendiri. Cara paling sederhana untuk membuat dataframe adalah dengan menggunakan struktur data dict dalam python."
   ]
  },
  {
   "cell_type": "code",
   "execution_count": null,
   "id": "c7c77c85",
   "metadata": {},
   "outputs": [],
   "source": [
    "### Contoh Pembuatan DataFrame\n",
    "\n",
    "data = {'apples':[3, 2, 0, 1], 'oranges':[0, 3, 7, 2]}\n",
    "purchases = pd.DataFrame(data)\n",
    "print(purchases)"
   ]
  },
  {
   "cell_type": "code",
   "execution_count": null,
   "id": "791593a3",
   "metadata": {},
   "outputs": [],
   "source": [
    "### Penambahan Kolom Baru\n",
    "\n",
    "df = pd.DataFrame({'Celcius':[17.0, 25.0]}, index=['Bantul', 'Sleman'])\n",
    "df"
   ]
  },
  {
   "cell_type": "code",
   "execution_count": null,
   "id": "981cd066",
   "metadata": {},
   "outputs": [],
   "source": [
    "# Ditambahkan Kolom Fahrenheit\n",
    "df = df.assign(fah=df['Celcius']*9/5+32)\n",
    "df"
   ]
  },
  {
   "cell_type": "code",
   "execution_count": null,
   "id": "df4cf691",
   "metadata": {},
   "outputs": [],
   "source": [
    "\n",
    "# Dengan Lambda Function\n",
    "df = df.assign(rea=lambda x: x.Celcius*4/5)\n",
    "df"
   ]
  },
  {
   "cell_type": "markdown",
   "id": "27c46da6",
   "metadata": {},
   "source": [
    "### Mengimport File"
   ]
  },
  {
   "cell_type": "code",
   "execution_count": null,
   "id": "eee9e8ce",
   "metadata": {},
   "outputs": [],
   "source": [
    "# Import File .txt\n",
    "data1=pd.read_csv(\"data.txt\")\n",
    "print(data1)\n",
    "\n",
    "print()\n",
    "\n",
    "data2=pd.read_csv(\"data.txt\", delimiter=\"\\t\")\n",
    "print(data2)"
   ]
  },
  {
   "cell_type": "code",
   "execution_count": null,
   "id": "3d136f63",
   "metadata": {},
   "outputs": [],
   "source": [
    "# Import File .csv\n",
    "data3=pd.read_csv(\"data.txt\")\n",
    "print(data3)\n",
    "\n",
    "print()\n",
    "\n",
    "data4=pd.read_csv(\"data.txt\", delimiter=\"\\s+\")\n",
    "print(data4)"
   ]
  },
  {
   "cell_type": "code",
   "execution_count": null,
   "id": "61c0f3e1",
   "metadata": {},
   "outputs": [],
   "source": [
    "# Import File .xlsx\n",
    "data5=pd.read_excel('data.xlsx')\n",
    "print(data5)"
   ]
  },
  {
   "cell_type": "code",
   "execution_count": null,
   "id": "710ca44a",
   "metadata": {},
   "outputs": [],
   "source": [
    "# Import File .xls\n",
    "data6=pd.read_excel('data.xls')\n",
    "print(data6)"
   ]
  },
  {
   "cell_type": "markdown",
   "id": "9c58da69",
   "metadata": {},
   "source": [
    "### Untuk Melihat Tabel"
   ]
  },
  {
   "cell_type": "code",
   "execution_count": null,
   "id": "47ac324a",
   "metadata": {},
   "outputs": [],
   "source": [
    "#semua\n",
    "data2"
   ]
  },
  {
   "cell_type": "code",
   "execution_count": null,
   "id": "6177fc2d",
   "metadata": {},
   "outputs": [],
   "source": [
    "# sebagian yang diatas (karena datanya sedikit maka yang tampil semua)\n",
    "data2.head()"
   ]
  },
  {
   "cell_type": "markdown",
   "id": "a4df4c9c",
   "metadata": {},
   "source": [
    "### Membuat DataFrame Sendiri"
   ]
  },
  {
   "cell_type": "code",
   "execution_count": null,
   "id": "aa38224e",
   "metadata": {},
   "outputs": [],
   "source": [
    "df = pd.DataFrame()\n",
    "print(df)"
   ]
  },
  {
   "cell_type": "code",
   "execution_count": null,
   "id": "327ed341",
   "metadata": {},
   "outputs": [],
   "source": [
    "data = [1,2,3,4,5]\n",
    "df1 = pd.DataFrame(data)\n",
    "print(df1)"
   ]
  },
  {
   "cell_type": "code",
   "execution_count": null,
   "id": "d5998380",
   "metadata": {},
   "outputs": [],
   "source": [
    "data = [['Purwanto',32],['Purnomo',43],['Purwo',55]]\n",
    "df2 = pd.DataFrame(data,columns=['Nama','Usia'])\n",
    "print(df2)"
   ]
  },
  {
   "cell_type": "markdown",
   "id": "8ccdcc23",
   "metadata": {},
   "source": [
    "### Memanggil data tertentu pada dataframe"
   ]
  },
  {
   "cell_type": "code",
   "execution_count": null,
   "id": "597b7853",
   "metadata": {},
   "outputs": [],
   "source": [
    "data = [['Purwanto',32],['Purnomo',43],['Purwo',55]]\n",
    "df2 = pd.DataFrame(data,columns=['Nama','Usia'])\n",
    "print(df2)\n",
    "print()"
   ]
  },
  {
   "cell_type": "code",
   "execution_count": null,
   "id": "1934456a",
   "metadata": {},
   "outputs": [],
   "source": [
    "df2[\"Nama\"]"
   ]
  },
  {
   "cell_type": "code",
   "execution_count": null,
   "id": "f08b8ad4",
   "metadata": {},
   "outputs": [],
   "source": [
    "df2[\"Usia\"]"
   ]
  },
  {
   "cell_type": "code",
   "execution_count": null,
   "id": "f4376a2c",
   "metadata": {},
   "outputs": [],
   "source": [
    "df2[\"Nama\"][0]"
   ]
  },
  {
   "cell_type": "code",
   "execution_count": null,
   "id": "657e4db5",
   "metadata": {},
   "outputs": [],
   "source": [
    "df2[\"Usia\"][0]"
   ]
  },
  {
   "cell_type": "markdown",
   "id": "7bec8f25",
   "metadata": {},
   "source": [
    "### Set Index"
   ]
  },
  {
   "cell_type": "code",
   "execution_count": null,
   "id": "11f88287",
   "metadata": {},
   "outputs": [],
   "source": [
    "df3 = pd.DataFrame([['Purwanto',32],['Purnomo',43],['Purwo',55]],columns=['Nama','Usia'])\n",
    "df3"
   ]
  },
  {
   "cell_type": "code",
   "execution_count": null,
   "id": "e3832365",
   "metadata": {},
   "outputs": [],
   "source": [
    "df3.set_index(\"Nama\")"
   ]
  },
  {
   "cell_type": "markdown",
   "id": "6a734080",
   "metadata": {},
   "source": [
    "### Pemanggilan Baris"
   ]
  },
  {
   "cell_type": "code",
   "execution_count": null,
   "id": "cca91c7a",
   "metadata": {},
   "outputs": [],
   "source": [
    "import numpy as np\n",
    "df4 = pd.DataFrame(data=np.array([[1, 2, 3], [4, 5, 6], [7, 8, 9]]), index= [2, 'A', 4], columns=[48, 49, 50])\n",
    "df4"
   ]
  },
  {
   "cell_type": "code",
   "execution_count": null,
   "id": "7c50a896",
   "metadata": {},
   "outputs": [],
   "source": [
    "df4.iloc[2]"
   ]
  },
  {
   "cell_type": "markdown",
   "id": "190550e9",
   "metadata": {},
   "source": [
    "### Menambah Kolom Baru"
   ]
  },
  {
   "cell_type": "code",
   "execution_count": null,
   "id": "482d5a03",
   "metadata": {},
   "outputs": [],
   "source": [
    "#Menambahkan index di kolom baru\n",
    "df5 = pd.DataFrame([['Purwanto',32],['Purnomo',43],['Purwo',55]],columns=['Nama','Usia'])\n",
    "df5[\"Index\"]=df5.index\n",
    "df5"
   ]
  },
  {
   "cell_type": "code",
   "execution_count": null,
   "id": "d66be2d6",
   "metadata": {},
   "outputs": [],
   "source": [
    "#Menambahkan kolom dengan isian baru\n",
    "df5.loc[:, \"Gender\"] = pd.Series(['L','L','L'])\n",
    "df5"
   ]
  },
  {
   "cell_type": "markdown",
   "id": "2e435064",
   "metadata": {},
   "source": [
    "### Melihat Ukuran DataFrame"
   ]
  },
  {
   "cell_type": "code",
   "execution_count": null,
   "id": "d1fd5ac2",
   "metadata": {},
   "outputs": [],
   "source": [
    "#ukuran baris paling panjang\n",
    "len(df2)"
   ]
  },
  {
   "cell_type": "code",
   "execution_count": null,
   "id": "5e355ee0",
   "metadata": {},
   "outputs": [],
   "source": [
    "#ukuran baris pada kolom tertentu\n",
    "len(df2[\"Nama\"])"
   ]
  },
  {
   "cell_type": "code",
   "execution_count": null,
   "id": "62184eee",
   "metadata": {},
   "outputs": [],
   "source": [
    "#ukuran baris, ukuran kolom dataframe\n",
    "print(df2.shape)"
   ]
  },
  {
   "cell_type": "markdown",
   "id": "33b8e372",
   "metadata": {},
   "source": [
    "### Menghapus"
   ]
  },
  {
   "cell_type": "code",
   "execution_count": null,
   "id": "95c566a5",
   "metadata": {},
   "outputs": [],
   "source": [
    "df6 = pd.DataFrame([['Purwanto',32],['Purnomo',43],['Purwo',55]],columns=['Nama','Usia'])\n",
    "df6"
   ]
  },
  {
   "cell_type": "code",
   "execution_count": null,
   "id": "33f6e54a",
   "metadata": {},
   "outputs": [],
   "source": [
    "#menghapus kolom\n",
    "del df6['Nama']\n",
    "df6"
   ]
  },
  {
   "cell_type": "code",
   "execution_count": null,
   "id": "138232e5",
   "metadata": {},
   "outputs": [],
   "source": [
    "#Menghapus n baris di awal\n",
    "df6=df6[2:]\n",
    "df6"
   ]
  },
  {
   "cell_type": "code",
   "execution_count": null,
   "id": "f853cb75",
   "metadata": {},
   "outputs": [],
   "source": [
    "df6 = pd.DataFrame([['Purwanto',32],['Purnomo',43],['Purwo',55]],columns=['Nama','Usia'])\n",
    "df6"
   ]
  },
  {
   "cell_type": "code",
   "execution_count": null,
   "id": "e0fd8372",
   "metadata": {},
   "outputs": [],
   "source": [
    "#Menghapus baris tertentu\n",
    "df6=df6.drop(df6.index[[0,2]])\n",
    "df6"
   ]
  },
  {
   "cell_type": "markdown",
   "id": "31a191a4",
   "metadata": {},
   "source": [
    "### Ekspor DataFrame"
   ]
  },
  {
   "cell_type": "code",
   "execution_count": null,
   "id": "eb530b77",
   "metadata": {},
   "outputs": [],
   "source": [
    "#import pandas dan numpy\n",
    "import pandas as pd\n",
    "import numpy as np\n",
    "#Misal kita punya suatu dataframe\n",
    "data = [[1,32],[2,43],[4,55]]\n",
    "df = pd.DataFrame(data,columns=['Nama','Usia'])\n",
    "#Convert ke numpy array\n",
    "databaru = df.to_numpy()\n",
    "print(databaru)\n",
    "#Convert ke txt\n",
    "df.to_csv(\"dataexport.txt\")\n",
    "#Convert ke csv\n",
    "df.to_csv(\"dataexport.csv\")\n",
    "#Convert ke xlsx\n",
    "writer = pd.ExcelWriter('dataexport.xlsx')\n",
    "df.to_excel(writer, 'DataFrame')\n",
    "writer.save()"
   ]
  },
  {
   "cell_type": "code",
   "execution_count": null,
   "id": "d4e52d94",
   "metadata": {},
   "outputs": [],
   "source": []
  }
 ],
 "metadata": {
  "kernelspec": {
   "display_name": "Python 3 (ipykernel)",
   "language": "python",
   "name": "python3"
  },
  "language_info": {
   "codemirror_mode": {
    "name": "ipython",
    "version": 3
   },
   "file_extension": ".py",
   "mimetype": "text/x-python",
   "name": "python",
   "nbconvert_exporter": "python",
   "pygments_lexer": "ipython3",
   "version": "3.9.7"
  }
 },
 "nbformat": 4,
 "nbformat_minor": 5
}
