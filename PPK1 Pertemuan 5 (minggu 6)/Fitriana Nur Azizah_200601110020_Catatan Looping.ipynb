{
 "cells": [
  {
   "cell_type": "markdown",
   "id": "85a18ce3",
   "metadata": {},
   "source": [
    "## Looping"
   ]
  },
  {
   "cell_type": "markdown",
   "id": "37672e5a",
   "metadata": {},
   "source": [
    "### While Loop"
   ]
  },
  {
   "cell_type": "code",
   "execution_count": 7,
   "id": "1981bc80",
   "metadata": {},
   "outputs": [
    {
     "name": "stdout",
     "output_type": "stream",
     "text": [
      "Masukkan nilai yang akan dihitung: 15\n"
     ]
    },
    {
     "data": {
      "text/plain": [
       "1307674368000"
      ]
     },
     "execution_count": 7,
     "metadata": {},
     "output_type": "execute_result"
    }
   ],
   "source": [
    "def faktorial(n):\n",
    "    fac = 1\n",
    "    i = 1\n",
    "    while i <= n:\n",
    "        fac = fac*i\n",
    "        i += 1\n",
    "    return fac\n",
    "angka = int(input(\"Masukkan nilai yang akan dihitung: \"))\n",
    "faktorial(angka)"
   ]
  },
  {
   "cell_type": "markdown",
   "id": "e1c01aec",
   "metadata": {},
   "source": [
    "### For Loop"
   ]
  },
  {
   "cell_type": "code",
   "execution_count": 8,
   "id": "091a71cc",
   "metadata": {},
   "outputs": [
    {
     "name": "stdout",
     "output_type": "stream",
     "text": [
      "151\n"
     ]
    }
   ],
   "source": [
    "numbers = [1, 10, 20, 30, 40, 50]\n",
    "sum = 0\n",
    "for number in numbers:\n",
    "    sum += number\n",
    "print(sum)"
   ]
  },
  {
   "cell_type": "markdown",
   "id": "0bec738f",
   "metadata": {},
   "source": [
    "### Looping dengan Break"
   ]
  },
  {
   "cell_type": "code",
   "execution_count": 11,
   "id": "8df211e0",
   "metadata": {},
   "outputs": [
    {
     "name": "stdout",
     "output_type": "stream",
     "text": [
      "Masukkan Angka: 55\n"
     ]
    }
   ],
   "source": [
    "b = 0\n",
    "while True:\n",
    "    angka = int(input(\"Masukkan Angka: \"))\n",
    "    b += angka\n",
    "    if b > 50:\n",
    "        break\n",
    "        print(\"Angka berhenti pada jumlah: \" + b)"
   ]
  },
  {
   "cell_type": "code",
   "execution_count": null,
   "id": "5b1d25ed",
   "metadata": {},
   "outputs": [],
   "source": []
  }
 ],
 "metadata": {
  "kernelspec": {
   "display_name": "Python 3 (ipykernel)",
   "language": "python",
   "name": "python3"
  },
  "language_info": {
   "codemirror_mode": {
    "name": "ipython",
    "version": 3
   },
   "file_extension": ".py",
   "mimetype": "text/x-python",
   "name": "python",
   "nbconvert_exporter": "python",
   "pygments_lexer": "ipython3",
   "version": "3.9.7"
  }
 },
 "nbformat": 4,
 "nbformat_minor": 5
}
