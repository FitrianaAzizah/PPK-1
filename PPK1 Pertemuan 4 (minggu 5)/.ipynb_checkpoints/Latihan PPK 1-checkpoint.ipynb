{
 "cells": [
  {
   "cell_type": "markdown",
   "id": "68f244b9",
   "metadata": {},
   "source": [
    "## Latihan PPK 1\n",
    "Nama: Fitriana Nur Azizah\\\n",
    "NIM: 200601110020\\\n",
    "Kelas: PPK 1-F"
   ]
  },
  {
   "cell_type": "markdown",
   "id": "dfd3c6c6",
   "metadata": {},
   "source": [
    "### Nomor 1"
   ]
  },
  {
   "cell_type": "code",
   "execution_count": 4,
   "id": "fe36971b",
   "metadata": {},
   "outputs": [
    {
     "name": "stdout",
     "output_type": "stream",
     "text": [
      "Bilangan a: 6\n",
      "Bilangan b: 9\n",
      "Bilangan dengan Nilai Terbesar = 9\n"
     ]
    }
   ],
   "source": [
    "a = int(input(\"Bilangan a: \"))\n",
    "b = int(input(\"Bilangan b: \"))\n",
    "if a > b:\n",
    "    max = a\n",
    "else:\n",
    "    max = b\n",
    "print('Bilangan dengan Nilai Terbesar = %d' %max)"
   ]
  },
  {
   "cell_type": "markdown",
   "id": "add7e4fc",
   "metadata": {},
   "source": [
    "### Nomor 2"
   ]
  },
  {
   "cell_type": "code",
   "execution_count": 9,
   "id": "991361f5",
   "metadata": {},
   "outputs": [
    {
     "name": "stdout",
     "output_type": "stream",
     "text": [
      "Menghitung Nilai Akhir\n",
      "Nilai UAS: 40\n",
      "Nilai UTS: 55\n",
      "Nilai Kuis: 50\n",
      "Nilai Tugas: 45\n",
      "Nilai Akhir:  46.5\n",
      "ANDA REMEDI!\n"
     ]
    }
   ],
   "source": [
    "print(\"Menghitung Nilai Akhir\")\n",
    "A = int(input(\"Nilai UAS: \"))\n",
    "B = int(input(\"Nilai UTS: \"))\n",
    "C = int(input(\"Nilai Kuis: \"))\n",
    "D = int(input(\"Nilai Tugas: \"))\n",
    "\n",
    "A = A*40/100;\n",
    "B = B*30/100;\n",
    "C = C*10/100;\n",
    "D = D*20/100;\n",
    "\n",
    "Nilaiakhir = A+B+C+D;\n",
    "print(\"Nilai Akhir: \" ,float(Nilaiakhir))\n",
    "if Nilaiakhir == \"65\" or Nilaiakhir > 65:\n",
    "    print(\"SELAMAT ANDA LULUS!\")\n",
    "else:\n",
    "    print(\"ANDA REMEDI!\")"
   ]
  },
  {
   "cell_type": "markdown",
   "id": "e29f2473",
   "metadata": {},
   "source": [
    "### Nomor 3"
   ]
  },
  {
   "cell_type": "code",
   "execution_count": 1,
   "id": "ce0191e7",
   "metadata": {},
   "outputs": [
    {
     "name": "stdout",
     "output_type": "stream",
     "text": [
      "Pilih Operasi\n",
      "1. Penjumlahan (+)\n",
      "2. Pengurangan (-)\n",
      "3. Perkalian (*)\n",
      "4. Pembagian (/)\n",
      "Masukkan Pilihan(+,-,*,/): -\n",
      "Masukkan Bilangan Pertama: 756\n",
      "Masukkan Bilangan Kedua  : 235\n",
      "756 - 235 = 521\n"
     ]
    }
   ],
   "source": [
    "def add(x,y):\n",
    "    return x+y\n",
    "def subtract(x,y):\n",
    "    return x-y\n",
    "def multiply(x,y):\n",
    "    return x*y\n",
    "def divide(x,y):\n",
    "    return x/y\n",
    "\n",
    "print(\"Pilih Operasi\")\n",
    "print(\"1. Penjumlahan (+)\")\n",
    "print(\"2. Pengurangan (-)\")\n",
    "print(\"3. Perkalian (*)\")\n",
    "print(\"4. Pembagian (/)\")\n",
    "\n",
    "choice = input(\"Masukkan Pilihan(+,-,*,/): \")\n",
    "\n",
    "num1 = int(input(\"Masukkan Bilangan Pertama: \"))\n",
    "num2 = int(input(\"Masukkan Bilangan Kedua  : \"))\n",
    "\n",
    "if choice == '+':\n",
    "    print(num1,\"+\",num2,\"=\", add(num1,num2))\n",
    "elif choice == '-':\n",
    "    print(num1,\"-\",num2,\"=\", subtract(num1,num2))\n",
    "elif choice == '*':\n",
    "    print(num1,\"*\",num2,\"=\", multiply(num1,num2))\n",
    "elif choice == '/':\n",
    "    print(num1,\"/\",num2,\"=\", divide(num1,num2))\n",
    "else:\n",
    "    print(\"Input Salah\")"
   ]
  }
 ],
 "metadata": {
  "kernelspec": {
   "display_name": "Python 3 (ipykernel)",
   "language": "python",
   "name": "python3"
  },
  "language_info": {
   "codemirror_mode": {
    "name": "ipython",
    "version": 3
   },
   "file_extension": ".py",
   "mimetype": "text/x-python",
   "name": "python",
   "nbconvert_exporter": "python",
   "pygments_lexer": "ipython3",
   "version": "3.9.7"
  }
 },
 "nbformat": 4,
 "nbformat_minor": 5
}
