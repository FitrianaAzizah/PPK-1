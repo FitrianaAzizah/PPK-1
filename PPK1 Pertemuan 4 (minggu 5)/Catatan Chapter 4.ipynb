{
 "cells": [
  {
   "cell_type": "markdown",
   "id": "b070bfec",
   "metadata": {},
   "source": [
    "# Chapter 4 Fungsi\n",
    "Nama: Fitriana Nur Azizah\\\n",
    "NIM: 200601110020\\\n",
    "Kelas: PPK 1-F"
   ]
  },
  {
   "cell_type": "markdown",
   "id": "1a896be1",
   "metadata": {},
   "source": [
    "## 4.1 Fungsi Global\n",
    "Fungsi global adalah fungsi yang didefinisikan di dalam suatu modul dan\n",
    "dapat dipanggil oleh fungsi lain, baik yang berada di dalam modul yang\n",
    "sama maupun modul lain."
   ]
  },
  {
   "cell_type": "markdown",
   "id": "1b755c5f",
   "metadata": {},
   "source": [
    "### Algorithm 4.1"
   ]
  },
  {
   "cell_type": "code",
   "execution_count": 4,
   "id": "001a5551",
   "metadata": {},
   "outputs": [
    {
     "data": {
      "text/plain": [
       "50"
      ]
     },
     "execution_count": 4,
     "metadata": {},
     "output_type": "execute_result"
    }
   ],
   "source": [
    "def kali(a,b):\n",
    "    c=a*b\n",
    "    return c # mengembalikan nilai ke baris pemanggil\n",
    "def tulis(s):\n",
    "    print(s)\n",
    "z=kali(10,5)\n",
    "z"
   ]
  },
  {
   "cell_type": "code",
   "execution_count": 5,
   "id": "394d575d",
   "metadata": {},
   "outputs": [
    {
     "name": "stdout",
     "output_type": "stream",
     "text": [
      "Pemrograman Komputer 1 dengan Phyton\n"
     ]
    }
   ],
   "source": [
    "tulis('Pemrograman Komputer 1 dengan Phyton')"
   ]
  },
  {
   "cell_type": "code",
   "execution_count": 6,
   "id": "367ae4a7",
   "metadata": {},
   "outputs": [
    {
     "name": "stdout",
     "output_type": "stream",
     "text": [
      "50\n"
     ]
    }
   ],
   "source": [
    "tulis(z)"
   ]
  },
  {
   "cell_type": "markdown",
   "id": "50205474",
   "metadata": {},
   "source": [
    "##  Modul 4 Control Flow"
   ]
  },
  {
   "cell_type": "markdown",
   "id": "c757d224",
   "metadata": {},
   "source": [
    "### Ekspresi Boolean"
   ]
  },
  {
   "cell_type": "code",
   "execution_count": 7,
   "id": "4be6c7f9",
   "metadata": {},
   "outputs": [
    {
     "data": {
      "text/plain": [
       "True"
      ]
     },
     "execution_count": 7,
     "metadata": {},
     "output_type": "execute_result"
    }
   ],
   "source": [
    "a = 2\n",
    "b = 2\n",
    "\n",
    "a == b"
   ]
  },
  {
   "cell_type": "code",
   "execution_count": 1,
   "id": "84f62604",
   "metadata": {},
   "outputs": [
    {
     "data": {
      "text/plain": [
       "True"
      ]
     },
     "execution_count": 1,
     "metadata": {},
     "output_type": "execute_result"
    }
   ],
   "source": [
    "5 == 5"
   ]
  },
  {
   "cell_type": "code",
   "execution_count": 2,
   "id": "e614d07d",
   "metadata": {},
   "outputs": [
    {
     "data": {
      "text/plain": [
       "False"
      ]
     },
     "execution_count": 2,
     "metadata": {},
     "output_type": "execute_result"
    }
   ],
   "source": [
    "5 == 6"
   ]
  },
  {
   "cell_type": "markdown",
   "id": "12018713",
   "metadata": {},
   "source": [
    "## Percobaan Conditional if"
   ]
  },
  {
   "cell_type": "code",
   "execution_count": 8,
   "id": "4d4ccbc7",
   "metadata": {},
   "outputs": [
    {
     "name": "stdout",
     "output_type": "stream",
     "text": [
      "Masukkan nilai Anda: 78\n",
      "Anda lulus ujian! SELAMAT!\n"
     ]
    }
   ],
   "source": [
    "nilai = input(\"Masukkan nilai Anda: \")\n",
    "if int(nilai) >= 70:\n",
    "    print(\"Anda lulus ujian! SELAMAT!\")"
   ]
  },
  {
   "cell_type": "markdown",
   "id": "85400f1d",
   "metadata": {},
   "source": [
    "## Percobaan Conditional if-else"
   ]
  },
  {
   "cell_type": "code",
   "execution_count": 10,
   "id": "667728ea",
   "metadata": {},
   "outputs": [
    {
     "name": "stdout",
     "output_type": "stream",
     "text": [
      "Masukkan nilai Anda: 65\n",
      "Anda belum lulus ujian!\n"
     ]
    }
   ],
   "source": [
    "nilai = input(\"Masukkan nilai Anda: \")\n",
    "if int(nilai) >= 70:\n",
    "    print(\"Anda lulus ujian! SELAMAT!\")\n",
    "else:\n",
    "    print(\"Anda belum lulus ujian!\")"
   ]
  },
  {
   "cell_type": "markdown",
   "id": "ad8be278",
   "metadata": {},
   "source": [
    "## Percobaan Conditional if-elif-else"
   ]
  },
  {
   "cell_type": "code",
   "execution_count": 14,
   "id": "905d734e",
   "metadata": {},
   "outputs": [
    {
     "name": "stdout",
     "output_type": "stream",
     "text": [
      "Masukkan nilai Anda: 70\n",
      "Anda lulus ujian! SELAMAT!\n"
     ]
    }
   ],
   "source": [
    "nilai = input(\"Masukkan nilai Anda: \")\n",
    "if int(nilai) < 0 or int(nilai) > 100:\n",
    "    print(\"Nilai Anda TIDAK valid\")\n",
    "elif int(nilai) >= 70:\n",
    "    print(\"Anda lulus ujian! SELAMAT!\")\n",
    "else:\n",
    "    print(\"Anda belum lulus ujian!\")"
   ]
  }
 ],
 "metadata": {
  "kernelspec": {
   "display_name": "Python 3 (ipykernel)",
   "language": "python",
   "name": "python3"
  },
  "language_info": {
   "codemirror_mode": {
    "name": "ipython",
    "version": 3
   },
   "file_extension": ".py",
   "mimetype": "text/x-python",
   "name": "python",
   "nbconvert_exporter": "python",
   "pygments_lexer": "ipython3",
   "version": "3.9.7"
  }
 },
 "nbformat": 4,
 "nbformat_minor": 5
}
